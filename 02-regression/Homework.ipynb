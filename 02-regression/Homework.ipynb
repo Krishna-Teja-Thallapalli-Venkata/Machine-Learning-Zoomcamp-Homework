{
 "cells": [
  {
   "cell_type": "code",
   "execution_count": 100,
   "id": "2aaf51f8",
   "metadata": {},
   "outputs": [],
   "source": [
    "import pandas as pd\n",
    "import numpy as np"
   ]
  },
  {
   "cell_type": "code",
   "execution_count": 101,
   "id": "493884c3",
   "metadata": {},
   "outputs": [],
   "source": [
    "data = 'https://raw.githubusercontent.com/alexeygrigorev/datasets/master/car_fuel_efficiency.csv'"
   ]
  },
  {
   "cell_type": "code",
   "execution_count": 102,
   "id": "35c5d596",
   "metadata": {},
   "outputs": [
    {
     "name": "stdout",
     "output_type": "stream",
     "text": [
      "--2025-10-07 05:17:51--  https://raw.githubusercontent.com/alexeygrigorev/datasets/master/car_fuel_efficiency.csv\n",
      "Resolving raw.githubusercontent.com (raw.githubusercontent.com)... 185.199.109.133, 185.199.110.133, 185.199.111.133, ...\n",
      "Connecting to raw.githubusercontent.com (raw.githubusercontent.com)|185.199.109.133|:443... connected.\n"
     ]
    },
    {
     "name": "stdout",
     "output_type": "stream",
     "text": [
      "HTTP request sent, awaiting response... 200 OK\n",
      "Length: 874188 (854K) [text/plain]\n",
      "Saving to: ‘car_fuel_efficiency.csv.1’\n",
      "\n",
      "car_fuel_efficiency 100%[===================>] 853.70K  3.33MB/s    in 0.3s    \n",
      "\n",
      "2025-10-07 05:17:52 (3.33 MB/s) - ‘car_fuel_efficiency.csv.1’ saved [874188/874188]\n",
      "\n"
     ]
    }
   ],
   "source": [
    "!wget $data"
   ]
  },
  {
   "cell_type": "code",
   "execution_count": 103,
   "id": "5a7f294d",
   "metadata": {},
   "outputs": [
    {
     "data": {
      "text/html": [
       "<div>\n",
       "<style scoped>\n",
       "    .dataframe tbody tr th:only-of-type {\n",
       "        vertical-align: middle;\n",
       "    }\n",
       "\n",
       "    .dataframe tbody tr th {\n",
       "        vertical-align: top;\n",
       "    }\n",
       "\n",
       "    .dataframe thead th {\n",
       "        text-align: right;\n",
       "    }\n",
       "</style>\n",
       "<table border=\"1\" class=\"dataframe\">\n",
       "  <thead>\n",
       "    <tr style=\"text-align: right;\">\n",
       "      <th></th>\n",
       "      <th>engine_displacement</th>\n",
       "      <th>num_cylinders</th>\n",
       "      <th>horsepower</th>\n",
       "      <th>vehicle_weight</th>\n",
       "      <th>acceleration</th>\n",
       "      <th>model_year</th>\n",
       "      <th>origin</th>\n",
       "      <th>fuel_type</th>\n",
       "      <th>drivetrain</th>\n",
       "      <th>num_doors</th>\n",
       "      <th>fuel_efficiency_mpg</th>\n",
       "    </tr>\n",
       "  </thead>\n",
       "  <tbody>\n",
       "    <tr>\n",
       "      <th>0</th>\n",
       "      <td>170</td>\n",
       "      <td>3.0</td>\n",
       "      <td>159.0</td>\n",
       "      <td>3413.433759</td>\n",
       "      <td>17.7</td>\n",
       "      <td>2003</td>\n",
       "      <td>Europe</td>\n",
       "      <td>Gasoline</td>\n",
       "      <td>All-wheel drive</td>\n",
       "      <td>0.0</td>\n",
       "      <td>13.231729</td>\n",
       "    </tr>\n",
       "    <tr>\n",
       "      <th>1</th>\n",
       "      <td>130</td>\n",
       "      <td>5.0</td>\n",
       "      <td>97.0</td>\n",
       "      <td>3149.664934</td>\n",
       "      <td>17.8</td>\n",
       "      <td>2007</td>\n",
       "      <td>USA</td>\n",
       "      <td>Gasoline</td>\n",
       "      <td>Front-wheel drive</td>\n",
       "      <td>0.0</td>\n",
       "      <td>13.688217</td>\n",
       "    </tr>\n",
       "    <tr>\n",
       "      <th>2</th>\n",
       "      <td>170</td>\n",
       "      <td>NaN</td>\n",
       "      <td>78.0</td>\n",
       "      <td>3079.038997</td>\n",
       "      <td>15.1</td>\n",
       "      <td>2018</td>\n",
       "      <td>Europe</td>\n",
       "      <td>Gasoline</td>\n",
       "      <td>Front-wheel drive</td>\n",
       "      <td>0.0</td>\n",
       "      <td>14.246341</td>\n",
       "    </tr>\n",
       "    <tr>\n",
       "      <th>3</th>\n",
       "      <td>220</td>\n",
       "      <td>4.0</td>\n",
       "      <td>NaN</td>\n",
       "      <td>2542.392402</td>\n",
       "      <td>20.2</td>\n",
       "      <td>2009</td>\n",
       "      <td>USA</td>\n",
       "      <td>Diesel</td>\n",
       "      <td>All-wheel drive</td>\n",
       "      <td>2.0</td>\n",
       "      <td>16.912736</td>\n",
       "    </tr>\n",
       "    <tr>\n",
       "      <th>4</th>\n",
       "      <td>210</td>\n",
       "      <td>1.0</td>\n",
       "      <td>140.0</td>\n",
       "      <td>3460.870990</td>\n",
       "      <td>14.4</td>\n",
       "      <td>2009</td>\n",
       "      <td>Europe</td>\n",
       "      <td>Gasoline</td>\n",
       "      <td>All-wheel drive</td>\n",
       "      <td>2.0</td>\n",
       "      <td>12.488369</td>\n",
       "    </tr>\n",
       "  </tbody>\n",
       "</table>\n",
       "</div>"
      ],
      "text/plain": [
       "   engine_displacement  num_cylinders  horsepower  vehicle_weight  \\\n",
       "0                  170            3.0       159.0     3413.433759   \n",
       "1                  130            5.0        97.0     3149.664934   \n",
       "2                  170            NaN        78.0     3079.038997   \n",
       "3                  220            4.0         NaN     2542.392402   \n",
       "4                  210            1.0       140.0     3460.870990   \n",
       "\n",
       "   acceleration  model_year  origin fuel_type         drivetrain  num_doors  \\\n",
       "0          17.7        2003  Europe  Gasoline    All-wheel drive        0.0   \n",
       "1          17.8        2007     USA  Gasoline  Front-wheel drive        0.0   \n",
       "2          15.1        2018  Europe  Gasoline  Front-wheel drive        0.0   \n",
       "3          20.2        2009     USA    Diesel    All-wheel drive        2.0   \n",
       "4          14.4        2009  Europe  Gasoline    All-wheel drive        2.0   \n",
       "\n",
       "   fuel_efficiency_mpg  \n",
       "0            13.231729  \n",
       "1            13.688217  \n",
       "2            14.246341  \n",
       "3            16.912736  \n",
       "4            12.488369  "
      ]
     },
     "execution_count": 103,
     "metadata": {},
     "output_type": "execute_result"
    }
   ],
   "source": [
    "df = pd.read_csv('car_fuel_efficiency.csv')\n",
    "df.head()"
   ]
  },
  {
   "cell_type": "code",
   "execution_count": 104,
   "id": "7f54f356",
   "metadata": {},
   "outputs": [
    {
     "data": {
      "text/plain": [
       "Index(['engine_displacement', 'num_cylinders', 'horsepower', 'vehicle_weight',\n",
       "       'acceleration', 'model_year', 'origin', 'fuel_type', 'drivetrain',\n",
       "       'num_doors', 'fuel_efficiency_mpg'],\n",
       "      dtype='object')"
      ]
     },
     "execution_count": 104,
     "metadata": {},
     "output_type": "execute_result"
    }
   ],
   "source": [
    "df.columns"
   ]
  },
  {
   "cell_type": "code",
   "execution_count": 105,
   "id": "acd7fa81",
   "metadata": {},
   "outputs": [
    {
     "data": {
      "text/plain": [
       "engine_displacement      int64\n",
       "num_cylinders          float64\n",
       "horsepower             float64\n",
       "vehicle_weight         float64\n",
       "acceleration           float64\n",
       "model_year               int64\n",
       "origin                  object\n",
       "fuel_type               object\n",
       "drivetrain              object\n",
       "num_doors              float64\n",
       "fuel_efficiency_mpg    float64\n",
       "dtype: object"
      ]
     },
     "execution_count": 105,
     "metadata": {},
     "output_type": "execute_result"
    }
   ],
   "source": [
    "df.dtypes"
   ]
  },
  {
   "cell_type": "code",
   "execution_count": 106,
   "id": "d848f285",
   "metadata": {},
   "outputs": [],
   "source": [
    "selected_columns = [\n",
    "    'engine_displacement',\n",
    "    'horsepower',\n",
    "    'vehicle_weight',\n",
    "    'model_year',\n",
    "    'fuel_efficiency_mpg'\n",
    "]\n",
    "\n",
    "df_small = df[selected_columns].copy()"
   ]
  },
  {
   "cell_type": "code",
   "execution_count": 107,
   "id": "a459d05c",
   "metadata": {},
   "outputs": [
    {
     "name": "stdout",
     "output_type": "stream",
     "text": [
      "engine_displacement\n",
      "[170 130 220 210 190]\n",
      "36\n",
      "horsepower\n",
      "[159.  97.  78.  nan 140.]\n",
      "192\n",
      "vehicle_weight\n",
      "[3413.43375861 3149.66493422 3079.03899737 2542.39240183 3460.87098999]\n",
      "9704\n",
      "model_year\n",
      "[2003 2007 2018 2009 2008]\n",
      "24\n",
      "fuel_efficiency_mpg\n",
      "[13.23172891 13.68821744 14.246341   16.9127356  12.48836912]\n",
      "9704\n"
     ]
    }
   ],
   "source": [
    "for col in df_small.columns:\n",
    "    print(col)\n",
    "    print(df[col].unique()[:5])\n",
    "    print(df[col].nunique())"
   ]
  },
  {
   "cell_type": "code",
   "execution_count": 108,
   "id": "b213ac9e",
   "metadata": {},
   "outputs": [],
   "source": [
    "import matplotlib.pyplot as plt\n",
    "import seaborn as sns\n",
    "\n",
    "%matplotlib inline"
   ]
  },
  {
   "cell_type": "code",
   "execution_count": 109,
   "id": "688eac5e",
   "metadata": {},
   "outputs": [
    {
     "data": {
      "text/plain": [
       "<Axes: xlabel='fuel_efficiency_mpg', ylabel='Count'>"
      ]
     },
     "execution_count": 109,
     "metadata": {},
     "output_type": "execute_result"
    },
    {
     "data": {
      "image/png": "[encoded data removed]",
      "text/plain": [
       "<Figure size 640x480 with 1 Axes>"
      ]
     },
     "metadata": {},
     "output_type": "display_data"
    }
   ],
   "source": [
    "sns.histplot(df_small.fuel_efficiency_mpg, bins=50)"
   ]
  },
  {
   "cell_type": "code",
   "execution_count": 110,
   "id": "c43ec3d0",
   "metadata": {},
   "outputs": [
    {
     "data": {
      "text/plain": [
       "np.float64(-0.012062219273507922)"
      ]
     },
     "execution_count": 110,
     "metadata": {},
     "output_type": "execute_result"
    }
   ],
   "source": [
    "#Does it have a long tail?\n",
    "df_small['fuel_efficiency_mpg'].skew()"
   ]
  },
  {
   "cell_type": "code",
   "execution_count": 111,
   "id": "0333f88c",
   "metadata": {},
   "outputs": [
    {
     "data": {
      "text/plain": [
       "engine_displacement      0\n",
       "horsepower             708\n",
       "vehicle_weight           0\n",
       "model_year               0\n",
       "fuel_efficiency_mpg      0\n",
       "dtype: int64"
      ]
     },
     "execution_count": 111,
     "metadata": {},
     "output_type": "execute_result"
    }
   ],
   "source": [
    "\n",
    "df_small.isnull().sum()"
   ]
  },
  {
   "cell_type": "code",
   "execution_count": 112,
   "id": "93059b39",
   "metadata": {},
   "outputs": [
    {
     "data": {
      "text/plain": [
       "np.float64(149.0)"
      ]
     },
     "execution_count": 112,
     "metadata": {},
     "output_type": "execute_result"
    }
   ],
   "source": [
    "#Question: Which column has missing values based on the options provided in the homework?\n",
    "#answer = horsepower\n",
    "#Horsepower column has missing values\n",
    "df_median = df_small['horsepower'].median()\n",
    "df_median"
   ]
  },
  {
   "cell_type": "code",
   "execution_count": 113,
   "id": "a958ff89",
   "metadata": {},
   "outputs": [],
   "source": [
    "#Question: Median for horse power\n",
    "#Answer: 149"
   ]
  },
  {
   "cell_type": "code",
   "execution_count": 114,
   "id": "47fefaee",
   "metadata": {},
   "outputs": [],
   "source": [
    "n = len(df)\n",
    "\n",
    "n_val = int(n*0.2)\n",
    "n_test = int(n*0.2)\n",
    "n_train = n - n_val - n_test\n"
   ]
  },
  {
   "cell_type": "code",
   "execution_count": 115,
   "id": "b409cf40",
   "metadata": {},
   "outputs": [
    {
     "data": {
      "text/plain": [
       "(9704, 1940, 1940, 5824)"
      ]
     },
     "execution_count": 115,
     "metadata": {},
     "output_type": "execute_result"
    }
   ],
   "source": [
    "n, n_val,n_test,n_train"
   ]
  },
  {
   "cell_type": "code",
   "execution_count": 116,
   "id": "28b8121d",
   "metadata": {},
   "outputs": [],
   "source": [
    "idx = np.arange(n)\n",
    "np.random.seed(2)\n",
    "np.random.shuffle(idx)"
   ]
  },
  {
   "cell_type": "code",
   "execution_count": 117,
   "id": "3d19e4e6",
   "metadata": {},
   "outputs": [],
   "source": [
    "df_train = df_small.iloc[idx[:n_train]]\n",
    "df_val = df_small.iloc[idx[n_train:n_train+n_val]]\n",
    "df_test = df_small.iloc[idx[n_train+n_val:]]"
   ]
  },
  {
   "cell_type": "code",
   "execution_count": 118,
   "id": "56723c6e",
   "metadata": {},
   "outputs": [
    {
     "data": {
      "text/html": [
       "<div>\n",
       "<style scoped>\n",
       "    .dataframe tbody tr th:only-of-type {\n",
       "        vertical-align: middle;\n",
       "    }\n",
       "\n",
       "    .dataframe tbody tr th {\n",
       "        vertical-align: top;\n",
       "    }\n",
       "\n",
       "    .dataframe thead th {\n",
       "        text-align: right;\n",
       "    }\n",
       "</style>\n",
       "<table border=\"1\" class=\"dataframe\">\n",
       "  <thead>\n",
       "    <tr style=\"text-align: right;\">\n",
       "      <th></th>\n",
       "      <th>engine_displacement</th>\n",
       "      <th>horsepower</th>\n",
       "      <th>vehicle_weight</th>\n",
       "      <th>model_year</th>\n",
       "      <th>fuel_efficiency_mpg</th>\n",
       "    </tr>\n",
       "  </thead>\n",
       "  <tbody>\n",
       "    <tr>\n",
       "      <th>246</th>\n",
       "      <td>170</td>\n",
       "      <td>164.0</td>\n",
       "      <td>2990.040917</td>\n",
       "      <td>2019</td>\n",
       "      <td>15.963019</td>\n",
       "    </tr>\n",
       "    <tr>\n",
       "      <th>8125</th>\n",
       "      <td>170</td>\n",
       "      <td>NaN</td>\n",
       "      <td>2729.623741</td>\n",
       "      <td>2012</td>\n",
       "      <td>15.931964</td>\n",
       "    </tr>\n",
       "    <tr>\n",
       "      <th>1927</th>\n",
       "      <td>200</td>\n",
       "      <td>142.0</td>\n",
       "      <td>3126.513375</td>\n",
       "      <td>2019</td>\n",
       "      <td>14.284901</td>\n",
       "    </tr>\n",
       "    <tr>\n",
       "      <th>8235</th>\n",
       "      <td>200</td>\n",
       "      <td>148.0</td>\n",
       "      <td>3136.477901</td>\n",
       "      <td>2003</td>\n",
       "      <td>14.865210</td>\n",
       "    </tr>\n",
       "    <tr>\n",
       "      <th>424</th>\n",
       "      <td>230</td>\n",
       "      <td>141.0</td>\n",
       "      <td>3384.681613</td>\n",
       "      <td>2006</td>\n",
       "      <td>12.428822</td>\n",
       "    </tr>\n",
       "    <tr>\n",
       "      <th>...</th>\n",
       "      <td>...</td>\n",
       "      <td>...</td>\n",
       "      <td>...</td>\n",
       "      <td>...</td>\n",
       "      <td>...</td>\n",
       "    </tr>\n",
       "    <tr>\n",
       "      <th>5313</th>\n",
       "      <td>210</td>\n",
       "      <td>145.0</td>\n",
       "      <td>3054.841280</td>\n",
       "      <td>2021</td>\n",
       "      <td>14.216871</td>\n",
       "    </tr>\n",
       "    <tr>\n",
       "      <th>4484</th>\n",
       "      <td>210</td>\n",
       "      <td>142.0</td>\n",
       "      <td>2440.034914</td>\n",
       "      <td>2021</td>\n",
       "      <td>17.826995</td>\n",
       "    </tr>\n",
       "    <tr>\n",
       "      <th>7107</th>\n",
       "      <td>260</td>\n",
       "      <td>169.0</td>\n",
       "      <td>2701.627103</td>\n",
       "      <td>2002</td>\n",
       "      <td>16.028769</td>\n",
       "    </tr>\n",
       "    <tr>\n",
       "      <th>9043</th>\n",
       "      <td>240</td>\n",
       "      <td>137.0</td>\n",
       "      <td>2383.896460</td>\n",
       "      <td>2016</td>\n",
       "      <td>17.794204</td>\n",
       "    </tr>\n",
       "    <tr>\n",
       "      <th>1612</th>\n",
       "      <td>160</td>\n",
       "      <td>NaN</td>\n",
       "      <td>2417.610650</td>\n",
       "      <td>2005</td>\n",
       "      <td>18.044561</td>\n",
       "    </tr>\n",
       "  </tbody>\n",
       "</table>\n",
       "<p>5824 rows × 5 columns</p>\n",
       "</div>"
      ],
      "text/plain": [
       "      engine_displacement  horsepower  vehicle_weight  model_year  \\\n",
       "246                   170       164.0     2990.040917        2019   \n",
       "8125                  170         NaN     2729.623741        2012   \n",
       "1927                  200       142.0     3126.513375        2019   \n",
       "8235                  200       148.0     3136.477901        2003   \n",
       "424                   230       141.0     3384.681613        2006   \n",
       "...                   ...         ...             ...         ...   \n",
       "5313                  210       145.0     3054.841280        2021   \n",
       "4484                  210       142.0     2440.034914        2021   \n",
       "7107                  260       169.0     2701.627103        2002   \n",
       "9043                  240       137.0     2383.896460        2016   \n",
       "1612                  160         NaN     2417.610650        2005   \n",
       "\n",
       "      fuel_efficiency_mpg  \n",
       "246             15.963019  \n",
       "8125            15.931964  \n",
       "1927            14.284901  \n",
       "8235            14.865210  \n",
       "424             12.428822  \n",
       "...                   ...  \n",
       "5313            14.216871  \n",
       "4484            17.826995  \n",
       "7107            16.028769  \n",
       "9043            17.794204  \n",
       "1612            18.044561  \n",
       "\n",
       "[5824 rows x 5 columns]"
      ]
     },
     "execution_count": 118,
     "metadata": {},
     "output_type": "execute_result"
    }
   ],
   "source": [
    "df_train"
   ]
  },
  {
   "cell_type": "code",
   "execution_count": 119,
   "id": "a0566833",
   "metadata": {},
   "outputs": [],
   "source": [
    "df_train = df_train.reset_index(drop=True)\n",
    "df_val = df_val.reset_index(drop=True)\n",
    "df_test = df_test.reset_index(drop=True)"
   ]
  },
  {
   "cell_type": "code",
   "execution_count": 120,
   "id": "e7b2bd09",
   "metadata": {},
   "outputs": [],
   "source": [
    "y_train = np.log1p(df_train.fuel_efficiency_mpg.values)\n",
    "y_val = np.log1p(df_val.fuel_efficiency_mpg.values)\n",
    "y_test = np.log1p(df_test.fuel_efficiency_mpg.values)"
   ]
  },
  {
   "cell_type": "code",
   "execution_count": 121,
   "id": "913c311e",
   "metadata": {},
   "outputs": [],
   "source": [
    "del df_train['fuel_efficiency_mpg']\n",
    "del df_val['fuel_efficiency_mpg']\n",
    "del df_test['fuel_efficiency_mpg']"
   ]
  },
  {
   "cell_type": "code",
   "execution_count": 122,
   "id": "44c58ff7",
   "metadata": {},
   "outputs": [
    {
     "data": {
      "text/plain": [
       "engine_displacement     110.000000\n",
       "horsepower              161.000000\n",
       "vehicle_weight         3064.002707\n",
       "model_year             2002.000000\n",
       "Name: 10, dtype: float64"
      ]
     },
     "execution_count": 122,
     "metadata": {},
     "output_type": "execute_result"
    }
   ],
   "source": [
    "df_train.iloc[10]"
   ]
  },
  {
   "cell_type": "code",
   "execution_count": 123,
   "id": "8d22f9a5",
   "metadata": {},
   "outputs": [],
   "source": [
    "#Manual Implementation of linear regresssion\n",
    "def train_linear_regression(X,y):\n",
    "    ones = np.ones(X.shape[0])\n",
    "    X = np.column_stack([ones, X])\n",
    "\n",
    "    XTX = X.T.dot(X)\n",
    "    XTX_inv = np.linalg.inv(XTX)\n",
    "    w_full = XTX_inv.dot(X.T).dot(y)\n",
    "\n",
    "    return w_full[0], w_full[1:]"
   ]
  },
  {
   "cell_type": "code",
   "execution_count": 124,
   "id": "8a2dd32c",
   "metadata": {},
   "outputs": [],
   "source": [
    "#Root Mean Squared Error(RMSE)\n",
    "def rmse(y,y_pred):\n",
    "    se = (y-y_pred) ** 2\n",
    "    mse = se.mean()\n",
    "    return np.sqrt(mse)"
   ]
  },
  {
   "cell_type": "code",
   "execution_count": 125,
   "id": "e96e75a0",
   "metadata": {},
   "outputs": [],
   "source": [
    "#Regularization\n",
    "def train_linear_regression_reg(X, y, r=0.001):\n",
    "    ones = np.ones(X.shape[0])\n",
    "    X = np.column_stack([ones, X])\n",
    "\n",
    "    XTX = X.T.dot(X)\n",
    "    XTX = XTX + r * np.eye(XTX.shape[0])\n",
    "\n",
    "    XTX_inv = np.linalg.inv(XTX)\n",
    "    w_full = XTX_inv.dot(X.T).dot(y)\n",
    "    \n",
    "    return w_full[0], w_full[1:]"
   ]
  },
  {
   "cell_type": "code",
   "execution_count": 126,
   "id": "0cd04c75",
   "metadata": {},
   "outputs": [],
   "source": [
    "base = df_train.columns"
   ]
  },
  {
   "cell_type": "code",
   "execution_count": 127,
   "id": "2445d9ee",
   "metadata": {},
   "outputs": [
    {
     "data": {
      "text/plain": [
       "0.03902570026567233"
      ]
     },
     "execution_count": 127,
     "metadata": {},
     "output_type": "execute_result"
    }
   ],
   "source": [
    "#Fill missing values with 0\n",
    "X_train = df_train[base].fillna(0).values\n",
    "w0, w = train_linear_regression(X_train, y_train)\n",
    "y_pred_0 = w0 + X_train.dot(w)\n",
    "\n",
    "score = float(rmse(y_train, y_pred_0))\n",
    "score\n"
   ]
  },
  {
   "cell_type": "code",
   "execution_count": 128,
   "id": "47e6a09f",
   "metadata": {},
   "outputs": [
    {
     "data": {
      "text/plain": [
       "0.03579166325717397"
      ]
     },
     "execution_count": 128,
     "metadata": {},
     "output_type": "execute_result"
    }
   ],
   "source": [
    "#Fill missing values with mean\n",
    "df_train_mean = float(df_train['horsepower'].mean())\n",
    "df_train_mean\n",
    "X_train = df_train[base].fillna(df_train_mean).values\n",
    "w0, w = train_linear_regression(X_train, y_train)\n",
    "y_pred_mean = w0 + X_train.dot(w)\n",
    "\n",
    "score_mean = float(rmse(y_train, y_pred_mean))\n",
    "score_mean"
   ]
  },
  {
   "cell_type": "code",
   "execution_count": 129,
   "id": "d89eff51",
   "metadata": {},
   "outputs": [],
   "source": [
    "#Question: Which option gives better RMSE?\n",
    "#Answer = mean"
   ]
  },
  {
   "cell_type": "code",
   "execution_count": 130,
   "id": "414c6414",
   "metadata": {},
   "outputs": [
    {
     "data": {
      "text/plain": [
       "<Axes: ylabel='Count'>"
      ]
     },
     "execution_count": 130,
     "metadata": {},
     "output_type": "execute_result"
    },
    {
     "data": {
      "image/png": "[encoded data removed]",
      "text/plain": [
       "<Figure size 640x480 with 1 Axes>"
      ]
     },
     "metadata": {},
     "output_type": "display_data"
    }
   ],
   "source": [
    "sns.histplot(y_pred_0, color='red', alpha=0.5, bins=50)\n",
    "sns.histplot(y_train, color='blue', alpha=0.5, bins=50)\n",
    "sns.histplot(y_pred_mean, color='yellow', alpha=0.5, bins=50)"
   ]
  },
  {
   "cell_type": "code",
   "execution_count": 131,
   "id": "a860d2eb",
   "metadata": {},
   "outputs": [
    {
     "name": "stdout",
     "output_type": "stream",
     "text": [
      "0.03945 0\n",
      "0.03952 0.01\n",
      "0.04024 0.1\n",
      "0.04116 1\n",
      "0.04132 5\n",
      "0.04135 10\n",
      "0.04136 100\n"
     ]
    }
   ],
   "source": [
    "#tunning the model\n",
    "X_train = df_train[base].fillna(0).values\n",
    "X_val = df_val[base].fillna(0).values\n",
    "\n",
    "for r in [0, 0.01, 0.1, 1, 5, 10, 100]:\n",
    "    \n",
    "    # Train on training set\n",
    "    w0, w = train_linear_regression_reg(X_train, y_train, r=r)\n",
    "    # print(f\"r={r:<6} w0={w0:.3f}, weights={np.round(w, 3)}\")\n",
    "\n",
    "    # Predict on validation set\n",
    "    y_pred = w0 + X_val.dot(w)\n",
    "    \n",
    "    score_tt = float(rmse(y_val, y_pred))\n",
    "    print(round(score_tt,5), r)"
   ]
  },
  {
   "cell_type": "code",
   "execution_count": 132,
   "id": "4d181a0b",
   "metadata": {},
   "outputs": [],
   "source": [
    "#Question: Best regularization\n",
    "#Answer: 0"
   ]
  },
  {
   "cell_type": "code",
   "execution_count": 133,
   "id": "a3f901ea",
   "metadata": {},
   "outputs": [
    {
     "name": "stdout",
     "output_type": "stream",
     "text": [
      "0.5206531296294218 27.376388746528697\n",
      "0.521338891285577 29.02246855416138\n",
      "0.5228069974803171 25.904357611049043\n",
      "0.515951674119676 28.015450067910564\n",
      "0.5109129460053851 25.93400040472635\n",
      "0.52834064601107 25.89950696063403\n",
      "0.5313910658146311 25.917230934138303\n",
      "0.5090670387381733 28.414324731275375\n",
      "0.5147399129511132 26.47841782687521\n",
      "0.5131865908224594 27.513852581224892\n",
      "Std (3 d.p.): 0.007\n"
     ]
    }
   ],
   "source": [
    "#With different seed values\n",
    "n = len(df_small)\n",
    "\n",
    "seed_values = [0, 1, 2, 3, 4, 5, 6, 7, 8, 9]\n",
    "scores = []\n",
    "\n",
    "for seed in seed_values:\n",
    "    np.random.seed(seed)\n",
    "\n",
    "    idx = np.arange(n)\n",
    "    np.random.shuffle(idx)\n",
    "    df_shuffled = df_small.iloc[idx]\n",
    "\n",
    "    # Here we split, we use the copy() so we can still keep the original dataset\n",
    "    df_train = df_shuffled.iloc[:n_train].copy()\n",
    "    df_val = df_shuffled.iloc[n_train:n_train+n_val].copy()\n",
    "    df_test = df_shuffled.iloc[n_train+n_val:].copy()\n",
    "\n",
    "    df_train = df_train.reset_index(drop=True)\n",
    "    df_val = df_val.reset_index(drop=True)\n",
    "    df_test = df_test.reset_index(drop=True)\n",
    "\n",
    "    y_train = df_train['fuel_efficiency_mpg'].values\n",
    "    y_val = df_val['fuel_efficiency_mpg'].values\n",
    "    y_test = df_test['fuel_efficiency_mpg'].values\n",
    "    \n",
    "    del df_train['fuel_efficiency_mpg']\n",
    "    del df_val['fuel_efficiency_mpg']\n",
    "    del df_test['fuel_efficiency_mpg']\n",
    "\n",
    "    X_train = df_train[base].fillna(0).values\n",
    "\n",
    "    X_val   = df_val[base].fillna(0).values\n",
    "    \n",
    "    w0, w = train_linear_regression(X_train, y_train)\n",
    "    \n",
    "    y_pred_val = w0 + X_val.dot(w)\n",
    "    \n",
    "    score = float(rmse(y_val, y_pred_val))\n",
    "    scores.append(score)\n",
    "    print(score, w0)\n",
    "\n",
    "std_score = np.std(scores)\n",
    "print(\"Std (3 d.p.):\", round(std_score, 3))\n",
    "# print(\"Standard deviation of scores:\", std_score)"
   ]
  },
  {
   "cell_type": "code",
   "execution_count": 134,
   "id": "cda50cd0",
   "metadata": {},
   "outputs": [],
   "source": [
    "#Question: RMSE Standard Deviation \n",
    "#Answer: 0.006(close to 0.007)"
   ]
  },
  {
   "cell_type": "code",
   "execution_count": 135,
   "id": "ea37c020",
   "metadata": {},
   "outputs": [
    {
     "name": "stdout",
     "output_type": "stream",
     "text": [
      "0.5156261299169602 26.946834792836274\n"
     ]
    }
   ],
   "source": [
    "n = len(df_small)\n",
    "np.random.seed(9)\n",
    "\n",
    "idx = np.arange(n)\n",
    "np.random.shuffle(idx)\n",
    "df_shuffled = df_small.iloc[idx]\n",
    "\n",
    "df_train = df_shuffled.iloc[:n_train].copy()\n",
    "df_val = df_shuffled.iloc[n_train:n_train+n_val].copy()\n",
    "df_test = df_shuffled.iloc[n_train+n_val:].copy()\n",
    "\n",
    "df_full_train = pd.concat([df_train, df_val])\n",
    "df_test = df_test.reset_index(drop=True)\n",
    "df_full_train = df_full_train.reset_index(drop=True)\n",
    "\n",
    "y_train = df_train['fuel_efficiency_mpg'].values\n",
    "y_val = df_val['fuel_efficiency_mpg'].values\n",
    "y_test = df_test['fuel_efficiency_mpg'].values\n",
    "\n",
    "y_full_train = np.concatenate([y_train, y_val])\n",
    "\n",
    "\n",
    "del df_train['fuel_efficiency_mpg']\n",
    "del df_val['fuel_efficiency_mpg']\n",
    "del df_test['fuel_efficiency_mpg']\n",
    "\n",
    "X_full_train = df_full_train[base].fillna(0).values\n",
    "X_test  = df_test[base].fillna(0).values \n",
    "\n",
    "w0, w = train_linear_regression_reg(X_full_train, y_full_train, r=0.001)\n",
    "\n",
    "y_pred = w0 + X_test.dot(w)\n",
    "\n",
    "score = float(rmse(y_test, y_pred))\n",
    "scores.append(score)\n",
    "print(score, w0)\n",
    "# print(\"Standard deviation of scores:\", std_score)"
   ]
  },
  {
   "cell_type": "code",
   "execution_count": 136,
   "id": "ed5d803a",
   "metadata": {},
   "outputs": [],
   "source": [
    "#Question: Evaluation on test\n",
    "#Answer: 0.515"
   ]
  }
 ],
 "metadata": {
  "kernelspec": {
   "display_name": ".venv",
   "language": "python",
   "name": "python3"
  },
  "language_info": {
   "codemirror_mode": {
    "name": "ipython",
    "version": 3
   },
   "file_extension": ".py",
   "mimetype": "text/x-python",
   "name": "python",
   "nbconvert_exporter": "python",
   "pygments_lexer": "ipython3",
   "version": "3.12.3"
  }
 },
 "nbformat": 4,
 "nbformat_minor": 5
}
